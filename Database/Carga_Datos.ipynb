{
 "cells": [
  {
   "cell_type": "markdown",
   "id": "e0ae750f",
   "metadata": {},
   "source": [
    "# Carga de Datos"
   ]
  },
  {
   "cell_type": "code",
   "execution_count": null,
   "id": "dcebbc07",
   "metadata": {},
   "outputs": [],
   "source": [
    "# Importar librerías\n",
    "import pandas as pd\n",
    "import sqlite3"
   ]
  },
  {
   "cell_type": "code",
   "execution_count": null,
   "id": "a79f8b17",
   "metadata": {},
   "outputs": [],
   "source": [
    "# Cargar datos CSV Municipios\n",
    "df = pd.read_csv(\"Municipios.csv\", sep=';')\n",
    "\n",
    "# Conectarse a SQLite\n",
    "conn = sqlite3.connect(\"reps.db\")\n",
    "\n",
    "# Insertar datos en la tabla existente 'Municipios'\n",
    "df.to_sql(\"Municipios\", conn, if_exists=\"append\", index=False)\n",
    "\n",
    "conn.close()"
   ]
  },
  {
   "cell_type": "code",
   "execution_count": 11,
   "id": "0d82748f",
   "metadata": {},
   "outputs": [
    {
     "name": "stderr",
     "output_type": "stream",
     "text": [
      "C:\\Users\\luist\\AppData\\Local\\Temp\\ipykernel_13580\\3445253852.py:2: DtypeWarning: Columns (2,14) have mixed types. Specify dtype option on import or set low_memory=False.\n",
      "  df = pd.read_csv(\"Prestadores.csv\", sep=';')\n"
     ]
    }
   ],
   "source": [
    "# Cargar datos CSV Prestadores\n",
    "df = pd.read_csv(\"Prestadores.csv\", sep=';')\n",
    "\n",
    "# Conectarse a SQLite\n",
    "conn = sqlite3.connect(\"reps.db\")\n",
    "\n",
    "# Insertar datos en la tabla existente 'Municipios'\n",
    "df.to_sql(\"Prestadores\", conn, if_exists=\"append\", index=False)\n",
    "\n",
    "conn.close()"
   ]
  },
  {
   "cell_type": "code",
   "execution_count": 13,
   "id": "c5109013",
   "metadata": {},
   "outputs": [],
   "source": [
    "# Cargar datos CSV consolidado\n",
    "df = pd.read_csv(\"consolidado.csv\", sep=';')\n",
    "\n",
    "# Conectarse a SQLite\n",
    "conn = sqlite3.connect(\"reps.db\")\n",
    "\n",
    "# Insertar datos en la tabla existente 'Municipios'\n",
    "df.to_sql(\"consolidado\", conn, if_exists=\"append\", index=False)\n",
    "\n",
    "conn.close()"
   ]
  }
 ],
 "metadata": {
  "kernelspec": {
   "display_name": "Python 3",
   "language": "python",
   "name": "python3"
  },
  "language_info": {
   "codemirror_mode": {
    "name": "ipython",
    "version": 3
   },
   "file_extension": ".py",
   "mimetype": "text/x-python",
   "name": "python",
   "nbconvert_exporter": "python",
   "pygments_lexer": "ipython3",
   "version": "3.12.2"
  }
 },
 "nbformat": 4,
 "nbformat_minor": 5
}
